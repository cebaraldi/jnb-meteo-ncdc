{
 "cells": [
  {
   "cell_type": "markdown",
   "id": "602ed2e0-e61f-49ea-ace9-1c3f1b7c3911",
   "metadata": {},
   "source": [
    "# National Climatic Data Center (NCDC)"
   ]
  },
  {
   "cell_type": "code",
   "execution_count": null,
   "id": "3d2de7e1-a0ce-4a28-93bd-c2bf2338261b",
   "metadata": {},
   "outputs": [],
   "source": [
    "%reset -sf\n",
    "import pandas as pd\n",
    "from urllib.request import urlopen\n",
    "\n",
    "url_type = 'ftp://anonymous@' \n",
    "url = 'ftp.ncei.noaa.gov'\n",
    "path = '/pub/data/ghcn/daily/by_year/'\n",
    "zip_url = url_type + url + path"
   ]
  },
  {
   "cell_type": "code",
   "execution_count": null,
   "id": "087bcac3-20f7-4965-91ea-92b6ebd96f15",
   "metadata": {},
   "outputs": [],
   "source": [
    "#from io import BytesIO\n",
    "#from zipfile import ZipFile\n",
    "#from re import compile\n",
    "\n",
    "def collectRecords(zfile): \n",
    "    with BytesIO(zfile.read()) as b, ZipFile(b) as datafile: \n",
    "        r = compile(\"^produkt_klima_tag_.*\\.txt$\")\n",
    "        dfound = list(filter(r.match, datafile.namelist()))\n",
    "        number = len(dfound)\n",
    "        assert  number == 1, f\"WARN: exactly one element expected, got {number} instead\"\n",
    "        #print(dfound[0])\n",
    "        #print(type(datafile))\n",
    "        rf = datafile.open(dfound[0])\n",
    "        lines = rf.readlines()\n",
    "        rf.close()\n",
    "        header = True\n",
    "        for bline in lines:\n",
    "            line = bline.decode('unicode-escape').rstrip('\\r\\n').split(';')\n",
    "            del line[-1] # remove last column containing only eor\n",
    "            #print(line)\n",
    "            if header: # initialize list of lists\n",
    "                header = not(header)\n",
    "                record = [line]\n",
    "            else:\n",
    "                record.append(line)\n",
    "    return record"
   ]
  },
  {
   "cell_type": "code",
   "execution_count": null,
   "id": "44d2340b-e283-4f5e-a215-79a0b33041f9",
   "metadata": {},
   "outputs": [],
   "source": [
    "with urlopen(zip_url) as f:\n",
    "    for bline in f.readlines():\n",
    "        line = bline.decode('unicode-escape').rstrip('\\r\\n').split(' ')[-1]\n",
    "        print(line)"
   ]
  },
  {
   "cell_type": "code",
   "execution_count": null,
   "id": "2209bd47-4c87-43b8-ac53-eb3b9f8999a6",
   "metadata": {},
   "outputs": [],
   "source": [
    "data = pd.read_csv(zip_url+'1750.csv.gz', compression='gzip', nrows=100)\n",
    "print(data)\n",
    "#.\n",
    "#.\n",
    "#.\n",
    "data = pd.read_csv(zip_url+'2023.csv.gz', compression='gzip', nrows=100)\n",
    "print(data)"
   ]
  }
 ],
 "metadata": {
  "kernelspec": {
   "display_name": "Python 3 (ipykernel)",
   "language": "python",
   "name": "python3"
  },
  "language_info": {
   "codemirror_mode": {
    "name": "ipython",
    "version": 3
   },
   "file_extension": ".py",
   "mimetype": "text/x-python",
   "name": "python",
   "nbconvert_exporter": "python",
   "pygments_lexer": "ipython3",
   "version": "3.10.8"
  }
 },
 "nbformat": 4,
 "nbformat_minor": 5
}
