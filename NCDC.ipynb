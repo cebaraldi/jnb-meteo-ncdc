{
 "cells": [
  {
   "cell_type": "markdown",
   "id": "602ed2e0-e61f-49ea-ace9-1c3f1b7c3911",
   "metadata": {},
   "source": [
    "# National Climatic Data Center (NCDC)"
   ]
  },
  {
   "cell_type": "markdown",
   "id": "57ba6c98-b944-4a9d-96b8-ca289a87a03e",
   "metadata": {},
   "source": [
    "## Reset and initialization"
   ]
  },
  {
   "cell_type": "code",
   "execution_count": null,
   "id": "3d2de7e1-a0ce-4a28-93bd-c2bf2338261b",
   "metadata": {},
   "outputs": [],
   "source": [
    "%reset -sf\n",
    "#import pandas as pd\n",
    "from pandas import read_csv, read_fwf\n",
    "from urllib.request import urlopen\n",
    "\n",
    "url_type = 'ftp://anonymous@' \n",
    "url = 'ftp.ncei.noaa.gov'\n",
    "path = '/pub/data/ghcn/daily/by_year/'\n",
    "zip_url = url_type + url + path"
   ]
  },
  {
   "cell_type": "markdown",
   "id": "092862b5-3613-41a0-836a-f9d63b6097af",
   "metadata": {},
   "source": [
    "## List available years"
   ]
  },
  {
   "cell_type": "code",
   "execution_count": null,
   "id": "44d2340b-e283-4f5e-a215-79a0b33041f9",
   "metadata": {},
   "outputs": [],
   "source": [
    "with urlopen(zip_url) as f:\n",
    "    for bline in f.readlines():\n",
    "        line = bline.decode('unicode-escape').rstrip('\\r\\n').split(' ')[-1]\n",
    "        print(line)"
   ]
  },
  {
   "cell_type": "markdown",
   "id": "3dfbe222-2b7b-4ee5-b0b4-6a55cb81c922",
   "metadata": {},
   "source": [
    "## A) Display contents of readme-by_year.txt"
   ]
  },
  {
   "cell_type": "code",
   "execution_count": null,
   "id": "ce72d25e-8f0c-475d-99a6-955e14b548f4",
   "metadata": {},
   "outputs": [],
   "source": [
    "print(urlopen(zip_url+'readme-by_year.txt').read().decode('utf-8'))"
   ]
  },
  {
   "cell_type": "code",
   "execution_count": null,
   "id": "c99f4ad6-d8c0-4bbc-889d-20015f7c70e2",
   "metadata": {},
   "outputs": [],
   "source": [
    "## B) Section III of the GHCN-Daily readme.txt"
   ]
  },
  {
   "cell_type": "code",
   "execution_count": null,
   "id": "00b23d77-a6ba-46b3-9692-54f24a6ac20f",
   "metadata": {},
   "outputs": [],
   "source": [
    "print(urlopen('ftp://ftp.ncdc.noaa.gov/pub/data/ghcn/daily/readme.txt').read().decode('utf-8'))"
   ]
  },
  {
   "cell_type": "markdown",
   "id": "33acd855-d930-49dd-a13d-b6b2744223b2",
   "metadata": {},
   "source": [
    "## C) Display contents of status-by_year.txt"
   ]
  },
  {
   "cell_type": "code",
   "execution_count": null,
   "id": "32420123-fd6b-4c1e-b920-ff916baac94f",
   "metadata": {},
   "outputs": [],
   "source": [
    "print(urlopen(zip_url+'status-by_year.txt').read().decode('utf-8'))"
   ]
  },
  {
   "cell_type": "markdown",
   "id": "2ca82fcf-c9e3-4851-b9db-0dbfef241da6",
   "metadata": {},
   "source": [
    "## First available year is 1750"
   ]
  },
  {
   "cell_type": "code",
   "execution_count": null,
   "id": "df6114bd-16fa-4316-9e20-1eddfc5313a1",
   "metadata": {},
   "outputs": [],
   "source": [
    "data1750 = read_csv(zip_url+'1750.csv.gz', compression='gzip', nrows=100)\n",
    "print(data1750)"
   ]
  },
  {
   "cell_type": "code",
   "execution_count": null,
   "id": "14c68251-4f38-482c-881f-8553c55b3f09",
   "metadata": {},
   "outputs": [],
   "source": [
    "## ... Current year is 2023"
   ]
  },
  {
   "cell_type": "code",
   "execution_count": null,
   "id": "2209bd47-4c87-43b8-ac53-eb3b9f8999a6",
   "metadata": {},
   "outputs": [],
   "source": [
    "data2023 = read_csv(zip_url+'2023.csv.gz', compression='gzip', nrows=100)\n",
    "print(data2023)"
   ]
  },
  {
   "cell_type": "raw",
   "id": "ed91edea-eb7e-4aa6-a32f-210544f828bd",
   "metadata": {},
   "source": [
    "Deactivated backup source code (to be hidden or removed):\n",
    "\n",
    "#from io import BytesIO\n",
    "#from zipfile import ZipFile\n",
    "#from re import compile\n",
    "\n",
    "def collectRecords(zfile): \n",
    "    with BytesIO(zfile.read()) as b, ZipFile(b) as datafile: \n",
    "        r = compile(\"^produkt_klima_tag_.*\\.txt$\")\n",
    "        dfound = list(filter(r.match, datafile.namelist()))\n",
    "        number = len(dfound)\n",
    "        assert  number == 1, f\"WARN: exactly one element expected, got {number} instead\"\n",
    "        #print(dfound[0])\n",
    "        #print(type(datafile))\n",
    "        rf = datafile.open(dfound[0])\n",
    "        lines = rf.readlines()\n",
    "        rf.close()\n",
    "        header = True\n",
    "        for bline in lines:\n",
    "            line = bline.decode('unicode-escape').rstrip('\\r\\n').split(';')\n",
    "            del line[-1] # remove last column containing only eor\n",
    "            #print(line)\n",
    "            if header: # initialize list of lists\n",
    "                header = not(header)\n",
    "                record = [line]\n",
    "            else:\n",
    "                record.append(line)\n",
    "    return record"
   ]
  }
 ],
 "metadata": {
  "kernelspec": {
   "display_name": "Python 3 (ipykernel)",
   "language": "python",
   "name": "python3"
  },
  "language_info": {
   "codemirror_mode": {
    "name": "ipython",
    "version": 3
   },
   "file_extension": ".py",
   "mimetype": "text/x-python",
   "name": "python",
   "nbconvert_exporter": "python",
   "pygments_lexer": "ipython3",
   "version": "3.10.8"
  }
 },
 "nbformat": 4,
 "nbformat_minor": 5
}
